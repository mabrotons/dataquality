{
  "nbformat": 4,
  "nbformat_minor": 0,
  "metadata": {
    "colab": {
      "provenance": []
    },
    "kernelspec": {
      "name": "python3",
      "display_name": "Python 3"
    },
    "language_info": {
      "name": "python"
    }
  },
  "cells": [
    {
      "cell_type": "markdown",
      "source": [
        "DQ_birthdates_basic_stats_v1.1\n"
      ],
      "metadata": {
        "id": "wO2KsMTUPxWr"
      }
    },
    {
      "cell_type": "markdown",
      "source": [
        "**Analysis approach of the data quality of dates using basic statistical methods (with Python)**\n",
        "A user-friendly approach to detect data quality issues and outliers in dates"
      ],
      "metadata": {
        "id": "-QF90t-BeCk5"
      }
    },
    {
      "cell_type": "markdown",
      "source": [
        "\n",
        "Search Medium\n",
        "Write\n",
        "\n",
        "Marc Alvarez Brotons\n",
        "Marc Alvarez Brotons\n",
        "Marc Alvarez Brotons\n",
        "Dec 31, 2022\n",
        "\n",
        "·\n",
        "5 min read\n",
        "·\n",
        "\n",
        "Listen\n",
        "\n",
        "\n",
        "\n",
        "\n",
        "\n",
        "\n",
        "\n",
        "Analysis approach of the data quality of dates using basic statistical methods (with Python)\n",
        "A user-friendly approach to detect data quality issues and outliers in dates\n",
        "\n",
        "Photo by Conny Schneider on Unsplash\n",
        "There main problems that cause defects in data quality are related to: problems in data entry applications, incorrect migration of data from old systems, degradation of information systems, process integration problems, etc.\n",
        "\n",
        "All of them lead to information degradation problems, generate high management costs at the operational level and have a negative impact on information analysis and decision making.\n",
        "\n",
        "In order to detect the existence of possible data quality problems in the imported dataset, it is recommended to carry out the following set of steps:\n",
        "\n",
        "1. Define the use case to analyze\n",
        "2. Explore dataset\n",
        "3. Detection and cleansing of main technical errors\n",
        "4. Analysis of distribution and frequencies\n",
        "\n",
        "\n",
        "**1. Define the use case to analyze**\n",
        "It is important to keep in mind the use case to which the data to be analyzed refers, because in its analysis we must apply the technical criteria of the data as well as the functional ones. An example could be the analysis of dates of birth of customers of an online store. The range of ages should be over 18 years to 100 years. Out of this age range, the records have a high probability of being considered a possible error.\n",
        "\n",
        "\n",
        "**2. Explore dataset**\n",
        "Once the use case is known, we will import the dates of birth dataset from a public github repository. Once the dataset is loaded, we will obtain the information from the dataset, as well as a preview a sample of the data, where we can see that the dataset contains two columns: one of them is about ids and the other dates of birth on datetime format.\n",
        "\n",
        "Additionally, we will obtain the maximum and minimum dates to get an idea of ​​the range of dates with which we are working about."
      ],
      "metadata": {
        "id": "GkJfb_MXXZb3"
      }
    },
    {
      "cell_type": "code",
      "source": [
        "import pandas as pd\n",
        "\n",
        "#Import dataset dates from github\n",
        "url = \"https://raw.githubusercontent.com/mabrotons/datasets/master/birthdates.csv\"\n",
        "\n",
        "\n",
        "df = pd.read_csv(url, index_col=0, parse_dates=['birthdates'])\n",
        "\n",
        "print(\"Data frame info: \") \n",
        "print(df.info())\n",
        "\n",
        "print(\"\\nData frame head: \") \n",
        "print(df.head())\n",
        "\n",
        "dates = df['birthdates']\n",
        "print(\"Min date: \" + str(min(dates)))\n",
        "print(\"Max date: \" + str(max(dates)))"
      ],
      "metadata": {
        "id": "DutKSKQ9XISC",
        "colab": {
          "base_uri": "https://localhost:8080/"
        },
        "outputId": "ed4f0f1b-862d-4022-e612-4eac2652ba60"
      },
      "execution_count": null,
      "outputs": [
        {
          "output_type": "stream",
          "name": "stdout",
          "text": [
            "Data frame info: \n",
            "<class 'pandas.core.frame.DataFrame'>\n",
            "Int64Index: 2103 entries, 0 to 2102\n",
            "Data columns (total 2 columns):\n",
            " #   Column      Non-Null Count  Dtype         \n",
            "---  ------      --------------  -----         \n",
            " 0   ids         2103 non-null   object        \n",
            " 1   birthdates  2103 non-null   datetime64[ns]\n",
            "dtypes: datetime64[ns](1), object(1)\n",
            "memory usage: 49.3+ KB\n",
            "None\n",
            "\n",
            "Data frame head: \n",
            "           ids birthdates\n",
            "0  C0000000001 1948-01-16\n",
            "1  C0000000002 1988-03-11\n",
            "2  C0000000003 1999-05-11\n",
            "3  C0000000004 1997-06-01\n",
            "4  C0000000005 1967-12-10\n",
            "Min date: 1801-09-03 00:00:00\n",
            "Max date: 2029-10-15 00:00:00\n"
          ]
        }
      ]
    },
    {
      "cell_type": "markdown",
      "source": [
        "**3. Detection and cleansing of main technical errors**\n",
        "\n",
        "As a first step on the analysis, we will build a graph to represent all the data included in the dataset in order to have a first view of the data, its distribution, the range, as well as detect possible outliers."
      ],
      "metadata": {
        "id": "_TD1njAdXXrb"
      }
    },
    {
      "cell_type": "code",
      "source": [
        "import matplotlib.pyplot as plt\n",
        "\n",
        "f = plt.figure()\n",
        "f.set_figwidth(15)\n",
        "f.set_figheight(5)\n",
        "\n",
        "plt.hist(dates, bins=50, edgecolor='black')\n",
        "plt.xticks(rotation=30)\n",
        "plt.title(\"Dates\")\n",
        "plt.show()"
      ],
      "metadata": {
        "colab": {
          "base_uri": "https://localhost:8080/",
          "height": 347
        },
        "id": "drxqdxn1vcfy",
        "outputId": "689967e8-ed14-400f-9e45-945272b8eea3"
      },
      "execution_count": null,
      "outputs": [
        {
          "output_type": "display_data",
          "data": {
            "text/plain": [
              "<Figure size 1080x360 with 1 Axes>"
            ],
            "image/png": "[encoded data removed]"
          },
          "metadata": {
            "needs_background": "light"
          }
        }
      ]
    },
    {
      "cell_type": "markdown",
      "source": [
        "Once the global vision of the date ranges from year 1801 to 2029 is available, we can see:\n",
        "- some of years are out of trustly range\n",
        "- the high density of dates is distributed between the years 1940 to 2000\n",
        "- the graphs show a clear error close to the year 2000\n",
        "\n",
        "If we focus on the outliers of the year 2000, we can detect that there is a possible problem with the date 01/01/2000 (dd/mm/YYYY) might be caused by a technical error or by using date file as a dummy date."
      ],
      "metadata": {
        "id": "aeV_LtnMPy2t"
      }
    },
    {
      "cell_type": "markdown",
      "source": [
        "If we focus on the outliers of the year 2000, we can detect that there is a possible problem with the date 01/01/2000 (dd/mm/YYYY) that is possibly caused by a technical error or by using date file as a dummy date."
      ],
      "metadata": {
        "id": "1BUlZp4vW5BN"
      }
    },
    {
      "cell_type": "code",
      "source": [
        "from datetime import date\n",
        "dates_outlier = [item for item in dates if item > date(1999, 12, 15) and item < date(2000, 1, 15)]\n",
        "f = plt.figure()\n",
        "f.set_figwidth(15)\n",
        "f.set_figheight(5)\n",
        "plt.xticks(rotation=30)\n",
        "plt.hist(dates_outlier, bins=30, edgecolor='black')\n",
        "plt.title(\"Outliers\")\n",
        "plt.show()"
      ],
      "metadata": {
        "colab": {
          "base_uri": "https://localhost:8080/",
          "height": 363
        },
        "id": "6O7_Xw6mZPJB",
        "outputId": "99070213-cc80-4575-f75c-23388080e83c"
      },
      "execution_count": null,
      "outputs": [
        {
          "output_type": "display_data",
          "data": {
            "text/plain": [
              "<Figure size 1080x360 with 1 Axes>"
            ],
            "image/png": "[encoded data removed]"
          },
          "metadata": {
            "needs_background": "light"
          }
        }
      ]
    },
    {
      "cell_type": "markdown",
      "source": [
        "Once potential outliers are removed, we can re-visualize the plot without erroneous data, making easy."
      ],
      "metadata": {
        "id": "t-l99hZCZj9F"
      }
    },
    {
      "cell_type": "code",
      "source": [
        "dates_clean = [item for item in dates if item > date(2000, 1, 1) or item < date(2000, 1, 1)]\n",
        "f = plt.figure()\n",
        "f.set_figwidth(15)\n",
        "f.set_figheight(5)\n",
        "plt.xticks(rotation=30)\n",
        "plt.hist(dates_clean, bins=40, edgecolor='black')\n",
        "plt.title(\"Dates without outliers\")\n",
        "plt.show()"
      ],
      "metadata": {
        "colab": {
          "base_uri": "https://localhost:8080/",
          "height": 347
        },
        "id": "lDIKMcvkZup2",
        "outputId": "19ea8dee-2a20-41ab-a871-727b600b2989"
      },
      "execution_count": null,
      "outputs": [
        {
          "output_type": "display_data",
          "data": {
            "text/plain": [
              "<Figure size 1080x360 with 1 Axes>"
            ],
            "image/png": "[encoded data removed]"
          },
          "metadata": {
            "needs_background": "light"
          }
        }
      ]
    },
    {
      "cell_type": "markdown",
      "source": [
        "**4. Analysis of distribution and frequencies**\n",
        "\n",
        "The next step is to analyze the split of dates of the dataset, component by component. First of all, we can analyze dates (excluding previous detected outliers) from the point of view of the year, and it seems like the global view."
      ],
      "metadata": {
        "id": "jq8gXJUaaHbP"
      }
    },
    {
      "cell_type": "code",
      "source": [
        "dates_clean_year = [item.year for item in dates_clean]\n",
        "f = plt.figure()\n",
        "f.set_figwidth(15)\n",
        "f.set_figheight(5)\n",
        "\n",
        "plt.hist(dates_clean_year, bins=40, edgecolor='black')\n",
        "plt.title(\"Years\")\n",
        "plt.show()\n"
      ],
      "metadata": {
        "colab": {
          "base_uri": "https://localhost:8080/",
          "height": 336
        },
        "id": "8dqvP2R3zMiG",
        "outputId": "a22aa9f0-3202-4eae-8e97-a2ed4e8ab539"
      },
      "execution_count": null,
      "outputs": [
        {
          "output_type": "display_data",
          "data": {
            "text/plain": [
              "<Figure size 1080x360 with 1 Axes>"
            ],
            "image/png": "[encoded data removed]"
          },
          "metadata": {
            "needs_background": "light"
          }
        }
      ]
    },
    {
      "cell_type": "markdown",
      "source": [
        "Now, we can do the same analysis using the month as frequency."
      ],
      "metadata": {
        "id": "CUOJzI3gRyZT"
      }
    },
    {
      "cell_type": "code",
      "source": [
        "dates_clean_month = [item.month for item in dates_clean]\n",
        "f = plt.figure()\n",
        "f.set_figwidth(10)\n",
        "f.set_figheight(5)\n",
        "plt.hist(dates_clean_month, bins=12, edgecolor='black')\n",
        "plt.title(\"Months\")\n",
        "plt.show()"
      ],
      "metadata": {
        "colab": {
          "base_uri": "https://localhost:8080/",
          "height": 336
        },
        "id": "zFRrZ-7MSUvQ",
        "outputId": "55b474d5-110e-47b8-e5a9-00b32017e75c"
      },
      "execution_count": null,
      "outputs": [
        {
          "output_type": "display_data",
          "data": {
            "text/plain": [
              "<Figure size 720x360 with 1 Axes>"
            ],
            "image/png": "[encoded data removed]"
          },
          "metadata": {
            "needs_background": "light"
          }
        }
      ]
    },
    {
      "cell_type": "markdown",
      "source": [
        "Viewing dates through the day of the month, we can detect a new outlier candidate: a large number of dates with the first day of the month compared to all other dates."
      ],
      "metadata": {
        "id": "f3nxadnKSuMQ"
      }
    },
    {
      "cell_type": "code",
      "source": [
        "dates_clean_day = [item.day for item in dates_clean]\n",
        "f = plt.figure()\n",
        "f.set_figwidth(10)\n",
        "f.set_figheight(5)\n",
        "plt.hist(dates_clean_day, bins=31, edgecolor='black')\n",
        "plt.title(\"Days\")\n",
        "plt.show()"
      ],
      "metadata": {
        "colab": {
          "base_uri": "https://localhost:8080/",
          "height": 336
        },
        "id": "I9ynM5alTRBH",
        "outputId": "02988b3b-e542-4967-ff24-01390d3b78e3"
      },
      "execution_count": null,
      "outputs": [
        {
          "output_type": "display_data",
          "data": {
            "text/plain": [
              "<Figure size 720x360 with 1 Axes>"
            ],
            "image/png": "[encoded data removed]"
          },
          "metadata": {
            "needs_background": "light"
          }
        }
      ]
    },
    {
      "cell_type": "markdown",
      "source": [
        "Finally, we can analyze from days of week as frequency."
      ],
      "metadata": {
        "id": "8Om6hNk0Tq3q"
      }
    },
    {
      "cell_type": "code",
      "source": [
        "weekDays = (\"Sunday\",\"Monday\",\"Tuesday\",\"Wednesday\",\"Thursday\",\"Friday\",\"Saturday\")\n",
        "dates_clean_weekday = [weekDays[item.weekday()] for item in dates_clean]\n",
        "f = plt.figure()\n",
        "f.set_figwidth(10)\n",
        "f.set_figheight(5)\n",
        "plt.hist(dates_clean_weekday, bins=7, edgecolor='black')\n",
        "plt.title(\"WeekDays\")\n",
        "plt.show()"
      ],
      "metadata": {
        "colab": {
          "base_uri": "https://localhost:8080/",
          "height": 336
        },
        "id": "XRMaxn0iT1ec",
        "outputId": "d5f9003e-4773-4c64-a98d-f303459da929"
      },
      "execution_count": null,
      "outputs": [
        {
          "output_type": "display_data",
          "data": {
            "text/plain": [
              "<Figure size 720x360 with 1 Axes>"
            ],
            "image/png": "[encoded data removed]"
          },
          "metadata": {
            "needs_background": "light"
          }
        }
      ]
    },
    {
      "cell_type": "markdown",
      "source": [
        "In this use case, being a dataset of dates of birth, we can do the analysis as simple dates (as we have done) or transform them to ages."
      ],
      "metadata": {
        "id": "8ZzZ9cNwUTlY"
      }
    },
    {
      "cell_type": "code",
      "source": [
        "def calculate_age(birth_date):\n",
        "    today = date.today()\n",
        "    age = today.year - birth_date.year - ((today.month, today.day) < (birth_date.month, birth_date.day))\n",
        " \n",
        "    return age\n",
        "     \n",
        "\n",
        "ages = [calculate_age(item) for item in dates_clean]\n",
        "f = plt.figure()\n",
        "f.set_figwidth(10)\n",
        "f.set_figheight(5)\n",
        "\n",
        "plt.hist(ages, bins=40, edgecolor='black')\n",
        "plt.title(\"Ages\")\n",
        "plt.show()"
      ],
      "metadata": {
        "colab": {
          "base_uri": "https://localhost:8080/",
          "height": 336
        },
        "id": "4Jn56YFB50R6",
        "outputId": "28f7d403-fc9a-4201-e5a1-79e1004288ba"
      },
      "execution_count": null,
      "outputs": [
        {
          "output_type": "display_data",
          "data": {
            "text/plain": [
              "<Figure size 720x360 with 1 Axes>"
            ],
            "image/png": "[encoded data removed]"
          },
          "metadata": {
            "needs_background": "light"
          }
        }
      ]
    },
    {
      "cell_type": "markdown",
      "source": [
        "Now, let’s calculate the basic statistics by age and visualize them easily with a boxplot, including:\n",
        "- min whisker (Q1–1.5*IQR)\n",
        "- Q1 (25th percentile rank)\n",
        "- median\n",
        "- Q3 (75th percentile rank)\n",
        "- max whisker (Q3–1.5*IQR)\n",
        "- outliers at both ends of the box figure"
      ],
      "metadata": {
        "id": "QHEgQoRZoRvU"
      }
    },
    {
      "cell_type": "code",
      "source": [
        "import statistics\n",
        "print(\"Min ages: \" + str(min(ages)))\n",
        "print(\"Max ages: \" + str(max(ages)))\n",
        "print(\"Mean ages: \" + str(statistics.mean(ages)))\n",
        "print(\"Median ages: \" + str(statistics.median(ages)))\n",
        "print(\"Standard deviation ages: \" + str(statistics.stdev(ages)) +\"\\n\")\n",
        "\n",
        "# Creating plot\n",
        "f = plt.figure()\n",
        "f.set_figwidth(10)\n",
        "f.set_figheight(5)\n",
        " \n",
        "red_circle = dict(markerfacecolor='red', marker='o')\n",
        "plt.boxplot(x=ages, vert=False, patch_artist=True, flierprops=red_circle, labels=['Ages']);\n",
        "plt.title(\"Ages\")\n",
        "plt.show()"
      ],
      "metadata": {
        "colab": {
          "base_uri": "https://localhost:8080/",
          "height": 440
        },
        "id": "_CYBfiBhPmNW",
        "outputId": "e443b1ef-8376-48d2-8743-fac7bb91b8cd"
      },
      "execution_count": null,
      "outputs": [
        {
          "output_type": "stream",
          "name": "stdout",
          "text": [
            "Min ages: -7\n",
            "Max ages: 221\n",
            "Mean ages: 53.85601681555439\n",
            "Median ages: 50\n",
            "Standard deviation ages: 33.66534871034922\n",
            "\n"
          ]
        },
        {
          "output_type": "display_data",
          "data": {
            "text/plain": [
              "<Figure size 720x360 with 1 Axes>"
            ],
            "image/png": "[encoded data removed]"
          },
          "metadata": {
            "needs_background": "light"
          }
        }
      ]
    },
    {
      "cell_type": "markdown",
      "source": [
        "**Conclusion**\n",
        "We can use basic statistical methods to perform a data quality analysis in order to detect potential errors and outliers. Coding with Python we can easily calculate the statistics and represent them graphically to help their interpretation.\n",
        "\n"
      ],
      "metadata": {
        "id": "vjXzriiGwwBz"
      }
    }
  ]
}
